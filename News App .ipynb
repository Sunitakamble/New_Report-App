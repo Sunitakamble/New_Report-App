{
 "cells": [
  {
   "cell_type": "code",
   "execution_count": 2,
   "id": "800a1fb8-7d8f-4784-b4bc-5feddb5933d0",
   "metadata": {},
   "outputs": [
    {
     "name": "stdout",
     "output_type": "stream",
     "text": [
      "Note: you may need to restart the kernel to use updated packages.\n"
     ]
    },
    {
     "name": "stderr",
     "output_type": "stream",
     "text": [
      "ERROR: Could not find a version that satisfies the requirement tkinter (from versions: none)\n",
      "ERROR: No matching distribution found for tkinter\n"
     ]
    }
   ],
   "source": [
    "pip install tkinter"
   ]
  },
  {
   "cell_type": "code",
   "execution_count": 3,
   "id": "2eb5fd6d-e81a-48f7-baf2-585abf82994f",
   "metadata": {},
   "outputs": [
    {
     "name": "stdout",
     "output_type": "stream",
     "text": [
      "Requirement already satisfied: requests in c:\\users\\dell\\anaconda3\\lib\\site-packages (2.31.0)\n",
      "Requirement already satisfied: charset-normalizer<4,>=2 in c:\\users\\dell\\anaconda3\\lib\\site-packages (from requests) (2.0.4)\n",
      "Requirement already satisfied: idna<4,>=2.5 in c:\\users\\dell\\anaconda3\\lib\\site-packages (from requests) (3.4)\n",
      "Requirement already satisfied: urllib3<3,>=1.21.1 in c:\\users\\dell\\anaconda3\\lib\\site-packages (from requests) (2.0.7)\n",
      "Requirement already satisfied: certifi>=2017.4.17 in c:\\users\\dell\\anaconda3\\lib\\site-packages (from requests) (2024.2.2)\n",
      "Note: you may need to restart the kernel to use updated packages.\n"
     ]
    }
   ],
   "source": [
    "pip install requests"
   ]
  },
  {
   "cell_type": "code",
   "execution_count": 5,
   "id": "4ab2b33f-dffd-4b3d-8437-45607a38a1d1",
   "metadata": {},
   "outputs": [],
   "source": [
    "from tkinter import *\n",
    "from tkinter import messagebox\n",
    "import requests\n",
    "\n",
    "apiKey = 'YOUR_API_KEY'"
   ]
  },
  {
   "cell_type": "code",
   "execution_count": 6,
   "id": "4cb5dd92-50a7-4266-a8ff-dc14e19753e0",
   "metadata": {},
   "outputs": [],
   "source": [
    "class NewsApp:\n",
    "    global apiKey, type\n",
    "    def __init__(self, root):\n",
    "        self.root = root\n",
    "        self.root.geometry('1000x650')\n",
    "        self.root.title(\"News Application\")\n",
    "        self.newsCategoryButton = []\n",
    "        self.newsCategory = [\"general\", \"entertainment\", \"sports\", \"technology\"]"
   ]
  },
  {
   "cell_type": "code",
   "execution_count": 1,
   "id": "2422b9e0-d54c-459e-a735-49aae2046b6a",
   "metadata": {},
   "outputs": [
    {
     "ename": "SyntaxError",
     "evalue": "invalid syntax (904575697.py, line 1)",
     "output_type": "error",
     "traceback": [
      "\u001b[1;36m  Cell \u001b[1;32mIn[1], line 1\u001b[1;36m\u001b[0m\n\u001b[1;33m    pip install tkinter\u001b[0m\n\u001b[1;37m        ^\u001b[0m\n\u001b[1;31mSyntaxError\u001b[0m\u001b[1;31m:\u001b[0m invalid syntax\n"
     ]
    }
   ],
   "source": [
    "pip install tkinter\n",
    "pip install requests\n",
    "from tkinter import *\n",
    "from tkinter import messagebox\n",
    "import requests\n",
    "\n",
    "apiKey = 'YOUR_API_KEY'\n",
    "\n",
    "class NewsApp:\n",
    "    global apiKey, type\n",
    "    def __init__(self, root):\n",
    "        self.root = root\n",
    "        self.root.geometry('1000x650')\n",
    "        self.root.title(\"News Application\")\n",
    "        self.newsCategoryButton = []\n",
    "        self.newsCategory = [\"general\", \"entertainment\", \"sports\", \"technology\"]\n",
    "        "
   ]
  },
  {
   "cell_type": "code",
   "execution_count": null,
   "id": "f8f42315-3221-4ba0-9441-1e6bedeb57e1",
   "metadata": {},
   "outputs": [],
   "source": []
  }
 ],
 "metadata": {
  "kernelspec": {
   "display_name": "Python 3 (ipykernel)",
   "language": "python",
   "name": "python3"
  },
  "language_info": {
   "codemirror_mode": {
    "name": "ipython",
    "version": 3
   },
   "file_extension": ".py",
   "mimetype": "text/x-python",
   "name": "python",
   "nbconvert_exporter": "python",
   "pygments_lexer": "ipython3",
   "version": "3.11.7"
  }
 },
 "nbformat": 4,
 "nbformat_minor": 5
}
